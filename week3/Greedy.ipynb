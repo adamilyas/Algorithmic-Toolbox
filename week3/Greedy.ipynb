{
 "cells": [
  {
   "cell_type": "markdown",
   "metadata": {},
   "source": [
    "# Money Change\n",
    "\n",
    "The goal in this problem is to find the minimum number of coins needed to change the input value\n",
    "(an integer) into coins with denominations 1, 5, and 10.\n",
    "\n",
    "Output the minimum number of coins with denominations 1, 5, 10 that changes 𝑚."
   ]
  },
  {
   "cell_type": "code",
   "execution_count": 2,
   "metadata": {},
   "outputs": [
    {
     "data": {
      "text/plain": [
       "[10, 10, 5, 1, 1, 1]"
      ]
     },
     "execution_count": 2,
     "metadata": {},
     "output_type": "execute_result"
    }
   ],
   "source": [
    "m = 28\n",
    "coins = [10, 5, 1]\n",
    "\n",
    "change = []\n",
    "while m != 0:\n",
    "    for c in coins:\n",
    "        if (m-c) >= 0:\n",
    "            m = m - c\n",
    "            change.append(c)\n",
    "            break\n",
    "            \n",
    "change"
   ]
  },
  {
   "cell_type": "code",
   "execution_count": 5,
   "metadata": {},
   "outputs": [
    {
     "data": {
      "text/plain": [
       "6"
      ]
     },
     "execution_count": 5,
     "metadata": {},
     "output_type": "execute_result"
    }
   ],
   "source": [
    "def get_change(m):\n",
    "    coins = [10, 5, 1]\n",
    "\n",
    "    change = []\n",
    "    while m != 0:\n",
    "        for c in coins:\n",
    "            if (m-c) >= 0:\n",
    "                m = m - c\n",
    "                change.append(c)\n",
    "                break\n",
    "\n",
    "    return len(change)\n",
    "\n",
    "get_change(28)"
   ]
  },
  {
   "cell_type": "markdown",
   "metadata": {},
   "source": [
    "# Maximum Value of the Loot\n",
    "\n",
    "A thief finds much more loot than his bag can fit. Help him to find the most valuable combination\n",
    "of items assuming that any fraction of a loot item can be put into his bag.\n",
    "\n",
    "Problem Description\n",
    "Task. The goal of this code problem is to implement an algorithm for the fractional knapsack problem.\n",
    "\n",
    "Input Format. \n",
    "\n",
    "The first line of the input contains the number 𝑛 of items and the capacity 𝑊 of a knapsack. <br>\n",
    "The next 𝑛 lines define the values and weights of the items. <br>\n",
    "The 𝑖-th line contains integers $v_i$ and $w_i$: the value and the weight of 𝑖-th item, respectively.\n",
    "\n",
    "Constraints. \n",
    "$$1 ≤ n ≤ 10^3$$ \n",
    "$$0 ≤ W ≤ 2\\times10^6$$\n",
    "$$0 ≤ v_i ≤ 2 \\times10^6$$ \n",
    "$$0 ≤ w_i ≤ 2 \\times10^6$$ \n",
    "\n",
    "\n",
    "Output Format. Output the maximal value of fractions of items that fit into the knapsack"
   ]
  },
  {
   "cell_type": "code",
   "execution_count": 45,
   "metadata": {},
   "outputs": [
    {
     "name": "stdout",
     "output_type": "stream",
     "text": [
      "3 50 60 20 100 50 120 30\n"
     ]
    }
   ],
   "source": [
    "data = list(map(int, input().split()))\n",
    "n, capacity = data[0:2]\n",
    "values = data[2:(2 * n + 2):2]\n",
    "weights = data[3:(2 * n + 2):2]"
   ]
  },
  {
   "cell_type": "code",
   "execution_count": 69,
   "metadata": {},
   "outputs": [
    {
     "name": "stdout",
     "output_type": "stream",
     "text": [
      "3 0\n"
     ]
    }
   ],
   "source": [
    "print(n, capacity)"
   ]
  },
  {
   "cell_type": "code",
   "execution_count": 70,
   "metadata": {},
   "outputs": [
    {
     "name": "stdout",
     "output_type": "stream",
     "text": [
      "[60, 100, 120]\n",
      "[20, 50, 30]\n"
     ]
    }
   ],
   "source": [
    "print(values)\n",
    "print(weights)"
   ]
  },
  {
   "cell_type": "code",
   "execution_count": 71,
   "metadata": {},
   "outputs": [
    {
     "data": {
      "text/plain": [
       "[(60, 20, 3.0), (100, 50, 2.0), (120, 30, 4.0)]"
      ]
     },
     "execution_count": 71,
     "metadata": {},
     "output_type": "execute_result"
    }
   ],
   "source": [
    "item_list = [(values[i], weights[i], values[i]/weights[i]) for i in range(n)]\n",
    "item_list"
   ]
  },
  {
   "cell_type": "code",
   "execution_count": 72,
   "metadata": {},
   "outputs": [
    {
     "data": {
      "text/plain": [
       "[(120, 30, 4.0), (60, 20, 3.0), (100, 50, 2.0)]"
      ]
     },
     "execution_count": 72,
     "metadata": {},
     "output_type": "execute_result"
    }
   ],
   "source": [
    "sorted_list = sorted(item_list, key=lambda x: x[2], reverse=True)\n",
    "sorted_list"
   ]
  },
  {
   "cell_type": "code",
   "execution_count": 66,
   "metadata": {},
   "outputs": [
    {
     "data": {
      "text/plain": [
       "180.0"
      ]
     },
     "execution_count": 66,
     "metadata": {},
     "output_type": "execute_result"
    }
   ],
   "source": [
    "total_value = 0\n",
    "\n",
    "for items in sorted_list:\n",
    "    value = items[0]\n",
    "    weight = items[1]\n",
    "    worth = items[2]\n",
    "\n",
    "    if weight > capacity:\n",
    "        total_value += worth*capacity\n",
    "        break\n",
    "    else:\n",
    "        total_value += value\n",
    "        capacity -= weight\n",
    "        \n",
    "total_value"
   ]
  },
  {
   "cell_type": "code",
   "execution_count": null,
   "metadata": {},
   "outputs": [],
   "source": [
    "#input 3 50 60 20 100 50 12 30\n",
    "\n",
    "data = list(map(int, input().split()))\n",
    "n, capacity = data[0:2]\n",
    "values = data[2:(2 * n + 2):2]\n",
    "weights = data[3:(2 * n + 2):2]\n",
    "\n"
   ]
  },
  {
   "cell_type": "code",
   "execution_count": null,
   "metadata": {},
   "outputs": [],
   "source": [
    "def get_optimal_value(capacity, weights, values):\n",
    "    total_value = 0.\n",
    "    # write your code here\n",
    "    item_list = [(values[i], weights[i], values[i]/weights[i]) for i in range(len(weights))]\n",
    "    sorted_list = sorted(item_list, key=lambda x: x[2], reverse=True)\n",
    "    for items in sorted_list:\n",
    "        value = items[0]\n",
    "        weight = items[1]\n",
    "        worth = items[2]\n",
    "\n",
    "        if weight > capacity:\n",
    "            total_value += worth*capacity\n",
    "            break\n",
    "        else:\n",
    "            total_value += value\n",
    "            capacity -= weight\n",
    "\n",
    "    return total_value\n",
    "\n",
    "opt_value = get_optimal_value(capacity, weights, values)\n",
    "print(\"{:.10f}\".format(opt_value))"
   ]
  },
  {
   "cell_type": "markdown",
   "metadata": {},
   "source": [
    "# Maximum Salary\n",
    "\n",
    "As the last question of a successful interview, your boss gives you a few pieces of paper\n",
    "with numbers on it and asks you to compose a largest number from these numbers. The\n",
    "resulting number is going to be your salary, so you are very much interested in maximizing\n",
    "this number. How can you do this?\n",
    "\n",
    "e.g 21 2 5 -> 5221"
   ]
  },
  {
   "cell_type": "code",
   "execution_count": 31,
   "metadata": {},
   "outputs": [
    {
     "data": {
      "text/plain": [
       "[['2', '3'], ['3', '9'], ['9', '2'], ['9']]"
      ]
     },
     "execution_count": 31,
     "metadata": {},
     "output_type": "execute_result"
    }
   ],
   "source": [
    "# sort by first digit\n",
    "digits = [23, 39, 92, 9]\n",
    "\n",
    "ls = [list(str(digit)) for digit in digits]\n",
    "ls"
   ]
  },
  {
   "cell_type": "code",
   "execution_count": 32,
   "metadata": {},
   "outputs": [
    {
     "data": {
      "text/plain": [
       "[['9', '2'], ['9'], ['3', '9'], ['2', '3']]"
      ]
     },
     "execution_count": 32,
     "metadata": {},
     "output_type": "execute_result"
    }
   ],
   "source": [
    "sorted(ls, key=lambda x:x[0], reverse=True)"
   ]
  },
  {
   "cell_type": "code",
   "execution_count": null,
   "metadata": {},
   "outputs": [],
   "source": []
  },
  {
   "cell_type": "code",
   "execution_count": 2,
   "metadata": {},
   "outputs": [],
   "source": [
    "digits()"
   ]
  },
  {
   "cell_type": "code",
   "execution_count": 90,
   "metadata": {},
   "outputs": [],
   "source": [
    "def compare(digit, maxDigit):\n",
    "    ab = str(digit) + str(maxDigit)\n",
    "    ba = str(maxDigit) + str(digit)\n",
    "    if int(ab) > int(ba):\n",
    "        return True\n",
    "    else:\n",
    "        return False"
   ]
  },
  {
   "cell_type": "code",
   "execution_count": 91,
   "metadata": {},
   "outputs": [
    {
     "data": {
      "text/plain": [
       "True"
      ]
     },
     "execution_count": 91,
     "metadata": {},
     "output_type": "execute_result"
    }
   ],
   "source": [
    "# 21, 2 -> 221 False\n",
    "# 31, 2 -> 312 True\n",
    "compare(31, 2)"
   ]
  },
  {
   "cell_type": "code",
   "execution_count": 92,
   "metadata": {},
   "outputs": [],
   "source": [
    "def largestNumber(digits):\n",
    "    ans = ''\n",
    "    while len(digits) != 0:\n",
    "        maxDigit = 0        \n",
    "        for digit in digits:\n",
    "            if compare(digit, maxDigit):\n",
    "                maxDigit = digit\n",
    "            \n",
    "        ans += str(maxDigit)\n",
    "        digits.remove(maxDigit)\n",
    "        \n",
    "    return ans"
   ]
  },
  {
   "cell_type": "code",
   "execution_count": 94,
   "metadata": {},
   "outputs": [
    {
     "data": {
      "text/plain": [
       "'941111922792260'"
      ]
     },
     "execution_count": 94,
     "metadata": {},
     "output_type": "execute_result"
    }
   ],
   "source": [
    "largestNumber([941111, 9227, 9226, 0])"
   ]
  },
  {
   "cell_type": "code",
   "execution_count": 74,
   "metadata": {},
   "outputs": [
    {
     "data": {
      "text/plain": [
       "[9227, 9226, 26]"
      ]
     },
     "execution_count": 74,
     "metadata": {},
     "output_type": "execute_result"
    }
   ],
   "source": []
  },
  {
   "cell_type": "code",
   "execution_count": null,
   "metadata": {},
   "outputs": [],
   "source": []
  }
 ],
 "metadata": {
  "kernelspec": {
   "display_name": "Python 3",
   "language": "python",
   "name": "python3"
  },
  "language_info": {
   "codemirror_mode": {
    "name": "ipython",
    "version": 3
   },
   "file_extension": ".py",
   "mimetype": "text/x-python",
   "name": "python",
   "nbconvert_exporter": "python",
   "pygments_lexer": "ipython3",
   "version": "3.6.4"
  }
 },
 "nbformat": 4,
 "nbformat_minor": 2
}
