{
 "cells": [
  {
   "cell_type": "markdown",
   "metadata": {},
   "source": [
    "Distance with full tank\n",
    "\n",
    "Minimum number of refills"
   ]
  },
  {
   "cell_type": "code",
   "execution_count": 24,
   "metadata": {},
   "outputs": [
    {
     "name": "stdout",
     "output_type": "stream",
     "text": [
      "[3, 9, 5, 9, 7, 1]\n",
      "[9, 3, 5, 9, 7, 1]\n",
      "[9, 9, 5, 3, 7, 1]\n",
      "[9, 9, 7, 3, 5, 1]\n",
      "[9, 9, 7, 5, 3, 1]\n",
      "[9, 9, 7, 5, 3, 1]\n",
      "[9, 9, 7, 5, 3, 1]\n"
     ]
    },
    {
     "data": {
      "text/plain": [
       "[9, 9, 7, 5, 3, 1]"
      ]
     },
     "execution_count": 24,
     "metadata": {},
     "output_type": "execute_result"
    }
   ],
   "source": [
    "ls = [3,9,5,9,7,1]\n",
    "print(ls)\n",
    "\n",
    "for i in range(len(ls)):\n",
    "    \n",
    "    max_index = i\n",
    "    for j in range(i, len(ls)):\n",
    "        if ls[j] > ls[max_index]:\n",
    "            max_index = j\n",
    "            \n",
    "    temp_value = ls[i]\n",
    "    ls[i] = ls[max_index]\n",
    "    ls[max_index] = temp_value\n",
    "    \n",
    "    print(ls)\n",
    "    "
   ]
  },
  {
   "cell_type": "code",
   "execution_count": 13,
   "metadata": {},
   "outputs": [
    {
     "data": {
      "text/plain": [
       "[3, 9, 5, 9, 7, 1]"
      ]
     },
     "execution_count": 13,
     "metadata": {},
     "output_type": "execute_result"
    }
   ],
   "source": [
    "ls = [3,9,5,9,7,1]\n",
    "ls"
   ]
  },
  {
   "cell_type": "code",
   "execution_count": 35,
   "metadata": {},
   "outputs": [
    {
     "name": "stdout",
     "output_type": "stream",
     "text": [
      "3 50 60 20 100 50 120 30\n",
      "[3, 50, 60, 20, 100, 50, 120, 30]\n",
      "50\n",
      "[20, 50, 30]\n",
      "[60, 100, 120]\n"
     ]
    }
   ],
   "source": [
    "#input 3 50 60 20 100 50 120 30\n",
    "\n",
    "data = list(map(int, input().split()))\n",
    "n, capacity = data[0:2]\n",
    "values = data[2:(2 * n + 2):2]\n",
    "weights = data[3:(2 * n + 2):2]\n",
    "\n",
    "print(data)\n",
    "print(capacity)\n",
    "print(weights)\n",
    "print(values)"
   ]
  },
  {
   "cell_type": "code",
   "execution_count": 36,
   "metadata": {},
   "outputs": [],
   "source": [
    "capacity = 50\n",
    "weights = [20, 50, 30]\n",
    "values = [60, 100, 120]"
   ]
  },
  {
   "cell_type": "code",
   "execution_count": 37,
   "metadata": {},
   "outputs": [
    {
     "name": "stdout",
     "output_type": "stream",
     "text": [
      "180.0000000000\n"
     ]
    }
   ],
   "source": [
    "def get_optimal_value(capacity, weights, values):\n",
    "    total_value = 0.\n",
    "    # write your code here\n",
    "    item_list = [(values[i], weights[i], values[i]/weights[i]) for i in range(len(weights))]\n",
    "    sorted_list = sorted(item_list, key=lambda x: x[2], reverse=True)\n",
    "    for items in sorted_list:\n",
    "        value = items[0]\n",
    "        weight = items[1]\n",
    "        worth = items[2]\n",
    "\n",
    "        if weight > capacity:\n",
    "            total_value += worth*capacity\n",
    "            break\n",
    "        else:\n",
    "            total_value += value\n",
    "            capacity -= weight\n",
    "\n",
    "    return total_value\n",
    "\n",
    "opt_value = get_optimal_value(capacity, weights, values)\n",
    "print(\"{:.10f}\".format(opt_value))"
   ]
  },
  {
   "cell_type": "code",
   "execution_count": null,
   "metadata": {},
   "outputs": [],
   "source": []
  },
  {
   "cell_type": "code",
   "execution_count": null,
   "metadata": {},
   "outputs": [],
   "source": []
  },
  {
   "cell_type": "code",
   "execution_count": null,
   "metadata": {},
   "outputs": [],
   "source": []
  },
  {
   "cell_type": "code",
   "execution_count": null,
   "metadata": {},
   "outputs": [],
   "source": []
  }
 ],
 "metadata": {
  "kernelspec": {
   "display_name": "Python 3",
   "language": "python",
   "name": "python3"
  },
  "language_info": {
   "codemirror_mode": {
    "name": "ipython",
    "version": 3
   },
   "file_extension": ".py",
   "mimetype": "text/x-python",
   "name": "python",
   "nbconvert_exporter": "python",
   "pygments_lexer": "ipython3",
   "version": "3.6.4"
  }
 },
 "nbformat": 4,
 "nbformat_minor": 2
}
