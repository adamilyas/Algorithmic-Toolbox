{
 "cells": [
  {
   "cell_type": "code",
   "execution_count": 1,
   "metadata": {},
   "outputs": [],
   "source": [
    "import random"
   ]
  },
  {
   "cell_type": "markdown",
   "metadata": {},
   "source": [
    "# Maximum Pairwise Product\n",
    "\n",
    "Find the maximum product of two distinct numbers\n",
    "in a sequence of non-negative integers.\n",
    "\n",
    "- Input: A sequence of non-negative\n",
    "integers.\n",
    "\n",
    "- Output: The maximum value that\n",
    "can be obtained by multiplying\n",
    "two different elements from the sequence.\n",
    "\n",
    "Algo\n",
    "\n",
    "```\n",
    "len = n\n",
    "Sequence = (A[0 . . .n-1]):\n",
    "\n",
    "```\n",
    "Find largest number O(n)\n",
    "```\n",
    "index_1=0\n",
    "for i from 1 to n:\n",
    "    if A[i] > A[index_1]:\n",
    "        index_1 = i\n",
    "```\n",
    "Find second largest number O(n)\n",
    "```\n",
    "index_2=0\n",
    "for i from 1 to n:\n",
    "    if A[i] > A[index_2] and i != index_1 :\n",
    "        index_2 = i\n",
    "        \n",
    "return index_1 * index_2\n",
    "```\n",
    "\n",
    "O(2n)"
   ]
  },
  {
   "cell_type": "code",
   "execution_count": 4,
   "metadata": {},
   "outputs": [
    {
     "data": {
      "text/plain": [
       "[2, 94, 37, 84, 11, 40, 94, 94, 37, 10]"
      ]
     },
     "execution_count": 4,
     "metadata": {},
     "output_type": "execute_result"
    }
   ],
   "source": [
    "seq = [random.randint(0, 100) for i in range(10)]\n",
    "seq"
   ]
  },
  {
   "cell_type": "code",
   "execution_count": 5,
   "metadata": {},
   "outputs": [],
   "source": [
    "def mmp(A):\n",
    "    N = len(A)\n",
    "    \n",
    "    index_1=0\n",
    "    for i in range(N):\n",
    "        if A[i] > A[index_1]:\n",
    "            index_1 = i\n",
    "            \n",
    "    index_2=0\n",
    "    for i in range(N):\n",
    "        if A[i] > A[index_2] and i != index_1:\n",
    "            index_2 = i\n",
    "\n",
    "    return A[index_1] * A[index_2]"
   ]
  },
  {
   "cell_type": "code",
   "execution_count": 6,
   "metadata": {},
   "outputs": [
    {
     "data": {
      "text/plain": [
       "8836"
      ]
     },
     "execution_count": 6,
     "metadata": {},
     "output_type": "execute_result"
    }
   ],
   "source": [
    "mmp(seq)"
   ]
  },
  {
   "cell_type": "code",
   "execution_count": null,
   "metadata": {},
   "outputs": [],
   "source": []
  }
 ],
 "metadata": {
  "kernelspec": {
   "display_name": "Python 3",
   "language": "python",
   "name": "python3"
  },
  "language_info": {
   "codemirror_mode": {
    "name": "ipython",
    "version": 3
   },
   "file_extension": ".py",
   "mimetype": "text/x-python",
   "name": "python",
   "nbconvert_exporter": "python",
   "pygments_lexer": "ipython3",
   "version": "3.6.4"
  }
 },
 "nbformat": 4,
 "nbformat_minor": 2
}
