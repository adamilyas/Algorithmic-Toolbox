{
 "cells": [
  {
   "cell_type": "code",
   "execution_count": null,
   "metadata": {},
   "outputs": [],
   "source": [
    "# 5678\n",
    "# 1234\n",
    "\n",
    "for i in range(1):\n",
    "    a = randint(0, 100000)\n",
    "    b = randint(0, 100000)\n",
    "    k = karatsuba1(a,b)\n",
    "    if k != a*b:\n",
    "        print(k, a*b)"
   ]
  },
  {
   "cell_type": "code",
   "execution_count": 45,
   "metadata": {},
   "outputs": [],
   "source": [
    "a = randint(0, 100000)\n",
    "b = randint(0, 100000)"
   ]
  },
  {
   "cell_type": "code",
   "execution_count": 53,
   "metadata": {},
   "outputs": [],
   "source": [
    "def karatsuba1(x,y):\n",
    "    xs = str(x)\n",
    "    ys = str(y)\n",
    "    \n",
    "    n = len(xs)\n",
    "    m = len(ys)\n",
    "    n = max(n,m)\n",
    "\n",
    "    if x<10 or y<10:\n",
    "        return x*y\n",
    "    \n",
    "    splitPosition = n//2\n",
    "    \n",
    "    a, b = int(xs[:-splitPosition]), int(xs[-splitPosition:])\n",
    "    c, d = int(ys[:-splitPosition]), int(ys[-splitPosition:])\n",
    "    \n",
    "#     print(a,b,c,d)\n",
    "    \n",
    "    ac = karatsuba1(a,c)\n",
    "        bd = karatsuba1(b,d);\n",
    "        ad = karatsuba1(a,d);\n",
    "    bc = karatsuba1(b,c);\n",
    "    \n",
    "    return (10**(2*splitPosition))*ac + (10**(splitPosition))*(ad+bc)+ bd"
   ]
  },
  {
   "cell_type": "code",
   "execution_count": 54,
   "metadata": {},
   "outputs": [
    {
     "data": {
      "text/plain": [
       "4080"
      ]
     },
     "execution_count": 54,
     "metadata": {},
     "output_type": "execute_result"
    }
   ],
   "source": [
    "karatsuba1(102, 40)"
   ]
  },
  {
   "cell_type": "code",
   "execution_count": 55,
   "metadata": {},
   "outputs": [],
   "source": [
    "for i in range(100):\n",
    "    a = randint(0, 100000)\n",
    "    b = randint(0, 100000)\n",
    "    k = karatsuba1(a,b)\n",
    "    if k != a*b:\n",
    "        print(k, a*b)"
   ]
  },
  {
   "cell_type": "code",
   "execution_count": 56,
   "metadata": {},
   "outputs": [
    {
     "data": {
      "text/plain": [
       "'1'"
      ]
     },
     "execution_count": 56,
     "metadata": {},
     "output_type": "execute_result"
    }
   ],
   "source": [
    "\"102\"[:1]"
   ]
  },
  {
   "cell_type": "code",
   "execution_count": null,
   "metadata": {},
   "outputs": [],
   "source": []
  }
 ],
 "metadata": {
  "kernelspec": {
   "display_name": "Python 3",
   "language": "python",
   "name": "python3"
  },
  "language_info": {
   "codemirror_mode": {
    "name": "ipython",
    "version": 3
   },
   "file_extension": ".py",
   "mimetype": "text/x-python",
   "name": "python",
   "nbconvert_exporter": "python",
   "pygments_lexer": "ipython3",
   "version": "3.7.4"
  }
 },
 "nbformat": 4,
 "nbformat_minor": 2
}
