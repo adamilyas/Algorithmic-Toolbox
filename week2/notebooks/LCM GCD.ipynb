{
 "cells": [
  {
   "cell_type": "markdown",
   "metadata": {},
   "source": [
    "# Greatest Common Divisor\n"
   ]
  },
  {
   "cell_type": "code",
   "execution_count": 3,
   "metadata": {},
   "outputs": [],
   "source": [
    "# iterate throught from 2 to the smaller number\n",
    "# the largest number in which both are divisible by\n",
    "# is the greatest common divisor\n",
    "# fucking slow\n",
    "\n",
    "def gcd(a, b):\n",
    "    current_gcd = 1\n",
    "    for divisor in range(2, min(a, b) + 1):\n",
    "        if a % divisor == 0 and b % divisor == 0:\n",
    "            if divisor > current_gcd:\n",
    "                current_gcd = divisor\n",
    "\n",
    "    return current_gcd"
   ]
  },
  {
   "cell_type": "code",
   "execution_count": 4,
   "metadata": {},
   "outputs": [
    {
     "data": {
      "text/plain": [
       "17657"
      ]
     },
     "execution_count": 4,
     "metadata": {},
     "output_type": "execute_result"
    }
   ],
   "source": [
    "gcd(a = 28851538, b = 1183019)"
   ]
  },
  {
   "cell_type": "markdown",
   "metadata": {},
   "source": [
    "Fast method:\n",
    "\n",
    "Let $a^`$ be the remainder when a is divided by b, theb\n",
    "\n",
    "$$gcd(a,b) = gcd(a^`, b) = gcd(a,b^`)$$\n",
    "\n",
    "Proof (sketch)\n",
    "\n",
    "$a = a^` + bq $ for some q\n",
    "\n",
    "d%a=0  and d%b=0 iff it divides $a^`$ and b"
   ]
  },
  {
   "cell_type": "code",
   "execution_count": 5,
   "metadata": {},
   "outputs": [],
   "source": [
    "# using recurrimg\n",
    "def gcd_r(a,b):\n",
    "    if a==0:\n",
    "        return b\n",
    "    elif b==0:\n",
    "        return a\n",
    "    else:\n",
    "        return gcd_r(b, a%b)"
   ]
  },
  {
   "cell_type": "code",
   "execution_count": 6,
   "metadata": {},
   "outputs": [
    {
     "data": {
      "text/plain": [
       "17657"
      ]
     },
     "execution_count": 6,
     "metadata": {},
     "output_type": "execute_result"
    }
   ],
   "source": [
    "gcd_r(a = 28851538, b = 1183019)"
   ]
  },
  {
   "cell_type": "code",
   "execution_count": null,
   "metadata": {},
   "outputs": [],
   "source": []
  },
  {
   "cell_type": "code",
   "execution_count": null,
   "metadata": {},
   "outputs": [],
   "source": []
  },
  {
   "cell_type": "markdown",
   "metadata": {},
   "source": [
    "# lcm"
   ]
  },
  {
   "cell_type": "code",
   "execution_count": 7,
   "metadata": {},
   "outputs": [
    {
     "data": {
      "text/plain": [
       "{5: 1, 7: 1}"
      ]
     },
     "execution_count": 7,
     "metadata": {},
     "output_type": "execute_result"
    }
   ],
   "source": [
    "# least common\n",
    "# e.g lsm of a and b is divisivle by both a and b\n",
    "# worst case -> a * b\n",
    "\n",
    "\n",
    "def gen_factors(a):\n",
    "    factors = {}\n",
    "    for factor in range(2, a+1):\n",
    "        count = 0\n",
    "        while a%factor == 0:\n",
    "            a /= factor\n",
    "            count += 1\n",
    "            factors[factor] = count\n",
    "    \n",
    "    return factors\n",
    "\n",
    "gen_factors(35)"
   ]
  },
  {
   "cell_type": "code",
   "execution_count": 8,
   "metadata": {},
   "outputs": [
    {
     "data": {
      "text/plain": [
       "24"
      ]
     },
     "execution_count": 8,
     "metadata": {},
     "output_type": "execute_result"
    }
   ],
   "source": [
    "# using the factoes, find the lowest common multiple\n",
    "\n",
    "def lcm(a,b):\n",
    "    a = gen_factors(a)\n",
    "    b = gen_factors(b)\n",
    "    \n",
    "    len_a = len(a)\n",
    "    len_b = len(b)\n",
    "          \n",
    "    if len_a > len_b:\n",
    "        n1, n2 = a, b\n",
    "    else:\n",
    "        n1, n2 = b, a\n",
    "    \n",
    "    for keys in n1:\n",
    "        if keys not in n2:\n",
    "            n2[keys] = n1[keys]\n",
    "        else:\n",
    "            if n2[keys] < n1[keys]:\n",
    "                n2[keys] = n1[keys]\n",
    "                \n",
    "    multiple = 1\n",
    "    for fac in n2:\n",
    "        power = n2[fac]\n",
    "        multiple *= fac**power\n",
    "    \n",
    "    return multiple\n",
    "    \n",
    "lcm(6,8)"
   ]
  },
  {
   "cell_type": "markdown",
   "metadata": {},
   "source": [
    "# Fast LCM"
   ]
  },
  {
   "cell_type": "code",
   "execution_count": 11,
   "metadata": {},
   "outputs": [],
   "source": [
    "def lcm_fast(a,b):\n",
    "    return int((a*b)/gcd_r(a,b))"
   ]
  },
  {
   "cell_type": "code",
   "execution_count": 12,
   "metadata": {},
   "outputs": [
    {
     "data": {
      "text/plain": [
       "24"
      ]
     },
     "execution_count": 12,
     "metadata": {},
     "output_type": "execute_result"
    }
   ],
   "source": [
    "lcm_fast(6,8)"
   ]
  },
  {
   "cell_type": "code",
   "execution_count": 13,
   "metadata": {},
   "outputs": [
    {
     "data": {
      "text/plain": [
       "1933053046"
      ]
     },
     "execution_count": 13,
     "metadata": {},
     "output_type": "execute_result"
    }
   ],
   "source": [
    "lcm_fast(28851538, 1183019)"
   ]
  },
  {
   "cell_type": "code",
   "execution_count": 14,
   "metadata": {},
   "outputs": [
    {
     "data": {
      "text/plain": [
       "46374212988031352"
      ]
     },
     "execution_count": 14,
     "metadata": {},
     "output_type": "execute_result"
    }
   ],
   "source": [
    "lcm_fast(226553150, 1023473145)"
   ]
  },
  {
   "cell_type": "code",
   "execution_count": 16,
   "metadata": {},
   "outputs": [],
   "source": [
    "a, b = 226553150, 1023473145"
   ]
  },
  {
   "cell_type": "code",
   "execution_count": 17,
   "metadata": {},
   "outputs": [
    {
     "data": {
      "text/plain": [
       "231871064940156750"
      ]
     },
     "execution_count": 17,
     "metadata": {},
     "output_type": "execute_result"
    }
   ],
   "source": [
    "a*b"
   ]
  },
  {
   "cell_type": "code",
   "execution_count": 18,
   "metadata": {},
   "outputs": [
    {
     "data": {
      "text/plain": [
       "5"
      ]
     },
     "execution_count": 18,
     "metadata": {},
     "output_type": "execute_result"
    }
   ],
   "source": [
    "gcd_r(a, b)"
   ]
  },
  {
   "cell_type": "code",
   "execution_count": 31,
   "metadata": {},
   "outputs": [
    {
     "data": {
      "text/plain": [
       "46374212988031350"
      ]
     },
     "execution_count": 31,
     "metadata": {},
     "output_type": "execute_result"
    }
   ],
   "source": [
    "int(a/5)*int(b)"
   ]
  },
  {
   "cell_type": "code",
   "execution_count": null,
   "metadata": {},
   "outputs": [],
   "source": []
  },
  {
   "cell_type": "code",
   "execution_count": null,
   "metadata": {},
   "outputs": [],
   "source": []
  },
  {
   "cell_type": "code",
   "execution_count": null,
   "metadata": {},
   "outputs": [],
   "source": []
  }
 ],
 "metadata": {
  "kernelspec": {
   "display_name": "Python 3",
   "language": "python",
   "name": "python3"
  },
  "language_info": {
   "codemirror_mode": {
    "name": "ipython",
    "version": 3
   },
   "file_extension": ".py",
   "mimetype": "text/x-python",
   "name": "python",
   "nbconvert_exporter": "python",
   "pygments_lexer": "ipython3",
   "version": "3.6.5"
  }
 },
 "nbformat": 4,
 "nbformat_minor": 2
}
