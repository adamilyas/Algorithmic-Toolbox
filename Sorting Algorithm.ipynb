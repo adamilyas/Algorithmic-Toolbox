{
 "cells": [
  {
   "cell_type": "markdown",
   "metadata": {},
   "source": [
    "- [Selection Sort](#Selection-Sort)\n",
    "- [Bubble Sort](#Bubble-Sort)\n",
    "\n",
    "http://bigocheatsheet.com/"
   ]
  },
  {
   "cell_type": "markdown",
   "metadata": {},
   "source": [
    "# Selection Sort\n",
    "\n",
    "The selection sort algorithm sorts an array by repeatedly finding the minimum element (considering ascending order) from unsorted part and putting it at the beginning. \n",
    "\n",
    "Time Complexity: $O(n^2)$ as there are two nested loops.\n",
    "\n",
    "Auxiliary Space: $O(1)$\n",
    "\n",
    "The good thing about selection sort is it never makes more than O(n) swaps and can be useful when memory write is a costly operation."
   ]
  },
  {
   "cell_type": "code",
   "execution_count": 29,
   "metadata": {},
   "outputs": [],
   "source": [
    "def selection_sort(a):\n",
    "    n = len(a)\n",
    "    for i in range(n):\n",
    "        print(\"Loop \", i)\n",
    "        currentMinIndex = i\n",
    "        for j in range(i, n):\n",
    "            if a[j] < a[i]:\n",
    "                currentMinIndex = j\n",
    "        #swap\n",
    "        a[i], a[currentMinIndex] = a[currentMinIndex], a[i]\n",
    "        print(a)\n",
    "    return a"
   ]
  },
  {
   "cell_type": "code",
   "execution_count": 30,
   "metadata": {},
   "outputs": [
    {
     "name": "stdout",
     "output_type": "stream",
     "text": [
      "Loop  0\n",
      "[11, 25, 12, 22, 64]\n",
      "Loop  1\n",
      "[11, 22, 12, 25, 64]\n",
      "Loop  2\n",
      "[11, 22, 12, 25, 64]\n",
      "Loop  3\n",
      "[11, 22, 12, 25, 64]\n",
      "Loop  4\n",
      "[11, 22, 12, 25, 64]\n"
     ]
    },
    {
     "data": {
      "text/plain": [
       "[11, 22, 12, 25, 64]"
      ]
     },
     "execution_count": 30,
     "metadata": {},
     "output_type": "execute_result"
    }
   ],
   "source": [
    "selection_sort([64, 25, 12, 22, 11])"
   ]
  },
  {
   "cell_type": "markdown",
   "metadata": {},
   "source": [
    "# Bubble Sort\n",
    "\n",
    "Bubble Sort is the simplest sorting algorithm that works by repeatedly swapping the adjacent elements if they are in wrong order.\n",
    "\n",
    "**Worst and Average Case time Complexity**: $O(n^2)$\n",
    "\n",
    "**Best Case Time Complexity**: $O(n)$. Best case occurs when array is already sorted."
   ]
  },
  {
   "cell_type": "code",
   "execution_count": 31,
   "metadata": {},
   "outputs": [],
   "source": [
    "def bubble_sort(a):\n",
    "    n = len(a)\n",
    "    for i in range(n):\n",
    "        print(\"Loop \", i)\n",
    "        swapped = False\n",
    "        # each i will correctly sort the i-th largest number\n",
    "        # therefore, dont have to sort the last\n",
    "        for j in range(len(a)-1-i):\n",
    "            if a[j+1] < a[j]:\n",
    "                #swap\n",
    "                a[j], a[j+1] = a[j+1], a[j]\n",
    "                swapped = True\n",
    "            print(a)\n",
    "            if swapped == False:\n",
    "                break\n",
    "    return a"
   ]
  },
  {
   "cell_type": "code",
   "execution_count": 32,
   "metadata": {},
   "outputs": [
    {
     "name": "stdout",
     "output_type": "stream",
     "text": [
      "Loop  0\n",
      "[25, 64, 12, 22, 11]\n",
      "[25, 12, 64, 22, 11]\n",
      "[25, 12, 22, 64, 11]\n",
      "[25, 12, 22, 11, 64]\n",
      "Loop  1\n",
      "[12, 25, 22, 11, 64]\n",
      "[12, 22, 25, 11, 64]\n",
      "[12, 22, 11, 25, 64]\n",
      "Loop  2\n",
      "[12, 22, 11, 25, 64]\n",
      "Loop  3\n",
      "[12, 22, 11, 25, 64]\n",
      "Loop  4\n"
     ]
    },
    {
     "data": {
      "text/plain": [
       "[12, 22, 11, 25, 64]"
      ]
     },
     "execution_count": 32,
     "metadata": {},
     "output_type": "execute_result"
    }
   ],
   "source": [
    "bubble_sort([64, 25, 12, 22, 11])"
   ]
  },
  {
   "cell_type": "markdown",
   "metadata": {},
   "source": [
    "# Recursive Bubble Sort\n",
    "\n",
    "Bubble Sort is the simplest sorting algorithm that works by repeatedly swapping the adjacent elements if they are in wrong order."
   ]
  },
  {
   "cell_type": "code",
   "execution_count": 35,
   "metadata": {},
   "outputs": [],
   "source": [
    "# Python Program for implementation of \n",
    "# Recursive Bubble sort\n",
    "def bubble_sort(a):\n",
    "    n = len(a)\n",
    "    for i in range(n):\n",
    "        try:\n",
    "            if a[i+1] < a[i]:\n",
    "                a[i], a[i+1] = a[i+1], a[i]\n",
    "                bubble_sort(a)\n",
    "        except IndexError:\n",
    "            pass\n",
    "    return a"
   ]
  },
  {
   "cell_type": "code",
   "execution_count": 36,
   "metadata": {},
   "outputs": [
    {
     "data": {
      "text/plain": [
       "[11, 12, 22, 25, 34, 64, 90]"
      ]
     },
     "execution_count": 36,
     "metadata": {},
     "output_type": "execute_result"
    }
   ],
   "source": [
    "listt = [64, 34, 25, 12, 22, 11, 90]\n",
    "bubble_sort(listt)"
   ]
  },
  {
   "cell_type": "markdown",
   "metadata": {},
   "source": [
    "# Insertion Sort"
   ]
  },
  {
   "cell_type": "code",
   "execution_count": 70,
   "metadata": {},
   "outputs": [],
   "source": [
    "# Python program for implementation of Insertion Sort\n",
    " \n",
    "# Function to do insertion sort\n",
    "def insertionSort(arr):\n",
    " \n",
    "    # Traverse through 1 to len(arr)\n",
    "    for i in range(1, len(arr)):\n",
    " \n",
    "        key = arr[i]\n",
    " \n",
    "        # Move elements of arr[0..i-1], that are\n",
    "        # greater than key, to one position ahead\n",
    "        # of their current position\n",
    "        j = i-1\n",
    "        while j >=0 and key < arr[j] :\n",
    "                arr[j+1] = arr[j]\n",
    "                j -= 1\n",
    "        arr[j+1] = key\n",
    "    return arr"
   ]
  },
  {
   "cell_type": "code",
   "execution_count": 72,
   "metadata": {},
   "outputs": [
    {
     "data": {
      "text/plain": [
       "[11, 12, 22, 25, 34, 64, 90]"
      ]
     },
     "execution_count": 72,
     "metadata": {},
     "output_type": "execute_result"
    }
   ],
   "source": [
    "listt = [64, 34, 25, 12, 22, 11, 90]\n",
    "insertionSort(listt)"
   ]
  },
  {
   "cell_type": "code",
   "execution_count": null,
   "metadata": {},
   "outputs": [],
   "source": []
  },
  {
   "cell_type": "code",
   "execution_count": null,
   "metadata": {},
   "outputs": [],
   "source": []
  },
  {
   "cell_type": "code",
   "execution_count": null,
   "metadata": {},
   "outputs": [],
   "source": []
  },
  {
   "cell_type": "markdown",
   "metadata": {},
   "source": [
    "# Quick Sort\n",
    "\n",
    "<img src=\"img/QuickSort2.png\">\n",
    "\n",
    "Best and Average case: $O(n\\log{n})$\n",
    "\n",
    "Worst case $O(n^2)$\n",
    "\n",
    "https://stackoverflow.com/questions/27645471/how-does-random-shuffling-in-quick-sort-help-in-increasing-the-efficiency-of-the"
   ]
  },
  {
   "cell_type": "code",
   "execution_count": 18,
   "metadata": {},
   "outputs": [],
   "source": [
    "def partition(a, start, end):\n",
    "    n = len(a)\n",
    "    pivot = a[end]\n",
    "    wall = 0\n",
    "    for j in range(n):\n",
    "        if a[j] <= pivot:\n",
    "            a[wall], a[j] = a[j], a[wall]\n",
    "            wall += 1\n",
    "    return wall-1\n",
    "# Function to do Quick sort\n",
    "def quickSort(arr,low,high):\n",
    "    if low < high:\n",
    " \n",
    "        # pi is partitioning index, arr[p] is now\n",
    "        # at right place\n",
    "        pi = partition(arr,low,high)\n",
    " \n",
    "        # Separately sort elements before\n",
    "        # partition and after partition\n",
    "        quickSort(arr, low, pi-1)\n",
    "        quickSort(arr, pi+1, high)\n",
    "    return arr"
   ]
  },
  {
   "cell_type": "code",
   "execution_count": 19,
   "metadata": {},
   "outputs": [
    {
     "name": "stdout",
     "output_type": "stream",
     "text": [
      "[10, 7, 1, 5, 8, 9]\n"
     ]
    }
   ],
   "source": [
    "arr = [10, 7, 1, 5, 8, 9]\n",
    "print(arr)"
   ]
  },
  {
   "cell_type": "code",
   "execution_count": 20,
   "metadata": {},
   "outputs": [
    {
     "data": {
      "text/plain": [
       "[1, 5, 7, 8, 9, 10]"
      ]
     },
     "execution_count": 20,
     "metadata": {},
     "output_type": "execute_result"
    }
   ],
   "source": [
    "quickSort(arr, 0, len(arr)-1)"
   ]
  },
  {
   "cell_type": "code",
   "execution_count": null,
   "metadata": {},
   "outputs": [],
   "source": []
  },
  {
   "cell_type": "code",
   "execution_count": null,
   "metadata": {},
   "outputs": [],
   "source": []
  },
  {
   "cell_type": "code",
   "execution_count": null,
   "metadata": {},
   "outputs": [],
   "source": []
  },
  {
   "cell_type": "markdown",
   "metadata": {},
   "source": [
    "Testing below\n",
    "\n",
    "attempt for mergesort"
   ]
  },
  {
   "cell_type": "code",
   "execution_count": 3,
   "metadata": {},
   "outputs": [],
   "source": [
    "arr = [1, 2, 4, 6, 3, 5, 7, 8]"
   ]
  },
  {
   "cell_type": "code",
   "execution_count": null,
   "metadata": {},
   "outputs": [],
   "source": []
  },
  {
   "cell_type": "code",
   "execution_count": null,
   "metadata": {},
   "outputs": [],
   "source": []
  },
  {
   "cell_type": "code",
   "execution_count": 4,
   "metadata": {},
   "outputs": [
    {
     "data": {
      "text/plain": [
       "([1, 2, 4, 6], [3, 5, 7, 8])"
      ]
     },
     "execution_count": 4,
     "metadata": {},
     "output_type": "execute_result"
    }
   ],
   "source": [
    "m = len(arr)//2\n",
    "left = arr[:m]\n",
    "right = arr[m:]\n",
    "left, right"
   ]
  },
  {
   "cell_type": "code",
   "execution_count": 23,
   "metadata": {},
   "outputs": [
    {
     "data": {
      "text/plain": [
       "[1, 2, 3, 4, 5, 6, 7, 8]"
      ]
     },
     "execution_count": 23,
     "metadata": {},
     "output_type": "execute_result"
    }
   ],
   "source": [
    "i = j = k = 0\n",
    "# i <- index of left\n",
    "# j <- index of right\n",
    "# k <- index of main\n",
    "\n",
    "while i < len(left) and j < len(right):\n",
    "    if left[i] <= right[j]:\n",
    "        arr[k] = left[i]\n",
    "        i += 1\n",
    "        k += 1\n",
    "    else:\n",
    "        arr[k] = right[j]\n",
    "        j += 1\n",
    "        k += 1\n",
    "while i < len(left):\n",
    "    arr[k] = left[i]\n",
    "    i += 1\n",
    "    k += 1\n",
    "while j < len(left):\n",
    "    arr[k] = right[j]\n",
    "    j += 1\n",
    "    k += 1\n",
    "    \n",
    "arr"
   ]
  },
  {
   "cell_type": "code",
   "execution_count": null,
   "metadata": {},
   "outputs": [],
   "source": []
  },
  {
   "cell_type": "markdown",
   "metadata": {},
   "source": []
  },
  {
   "cell_type": "code",
   "execution_count": null,
   "metadata": {},
   "outputs": [],
   "source": []
  }
 ],
 "metadata": {
  "kernelspec": {
   "display_name": "Python 3",
   "language": "python",
   "name": "python3"
  },
  "language_info": {
   "codemirror_mode": {
    "name": "ipython",
    "version": 3
   },
   "file_extension": ".py",
   "mimetype": "text/x-python",
   "name": "python",
   "nbconvert_exporter": "python",
   "pygments_lexer": "ipython3",
   "version": "3.6.5"
  }
 },
 "nbformat": 4,
 "nbformat_minor": 2
}
