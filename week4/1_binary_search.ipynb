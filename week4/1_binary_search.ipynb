{
 "cells": [
  {
   "cell_type": "markdown",
   "metadata": {},
   "source": [
    "Input:\n",
    "\n",
    "List 1: 5 1 5 8 12 13 <br>\n",
    "List 2: 5 8 1 23 1 11 \n",
    "\n",
    "\n",
    "First element of each list is the number of elements of the list<br>\n",
    "(essentially ignore first element)\n",
    "List 1 contains distinct postive integers in increasing order <br>\n",
    "List 2 contains postive integers\n",
    "\n",
    "Output: \n",
    "- Index of number in list 1 if exist in list 1\n",
    "- -1 if doest not exist in list 1"
   ]
  },
  {
   "cell_type": "code",
   "execution_count": 8,
   "metadata": {},
   "outputs": [],
   "source": [
    "def linear_search(a, x):\n",
    "    \"\"\"\n",
    "    a is a list\n",
    "    Returns\n",
    "        outputs the index of x in list a if x is in list a\n",
    "        else -1\n",
    "    \"\"\"\n",
    "    for i in range(len(a)):\n",
    "        if a[i] == x:\n",
    "            return i\n",
    "    return -1"
   ]
  },
  {
   "cell_type": "code",
   "execution_count": 11,
   "metadata": {},
   "outputs": [
    {
     "name": "stdout",
     "output_type": "stream",
     "text": [
      "5 1 5 8 12 13 \n",
      "5 8 1 23 1 11\n",
      "2 0 -1 0 -1 "
     ]
    }
   ],
   "source": [
    "#input = sys.stdin.read()\n",
    "data = list(map(int, input().split()))\n",
    "next_data = list(map(int, input().split()))\n",
    "a = data[1:]\n",
    "for x in next_data[1:]:\n",
    "    # replace with the call to binary_search when implemented\n",
    "    print(linear_search(a, x), end = ' ')"
   ]
  },
  {
   "cell_type": "markdown",
   "metadata": {},
   "source": [
    "However, since we know that "
   ]
  },
  {
   "cell_type": "code",
   "execution_count": 12,
   "metadata": {},
   "outputs": [],
   "source": [
    "def bin_search(a, x):\n",
    "    \"\"\"\n",
    "    a is a list\n",
    "    Returns\n",
    "        outputs the index of x in list a if x is in list a\n",
    "        else -1\n",
    "    \"\"\"    \n",
    "    start, end = 0, len(a)-1\n",
    "    while start <= end:\n",
    "        mid = (start + end)//2 \n",
    "        #print(mid)\n",
    "        if x > a[mid]:\n",
    "            start = mid + 1\n",
    "        elif x < a[mid]:\n",
    "            end = mid - 1\n",
    "        else:\n",
    "            return mid\n",
    "    return -1"
   ]
  },
  {
   "cell_type": "code",
   "execution_count": null,
   "metadata": {},
   "outputs": [],
   "source": []
  },
  {
   "cell_type": "code",
   "execution_count": null,
   "metadata": {},
   "outputs": [],
   "source": []
  },
  {
   "cell_type": "code",
   "execution_count": null,
   "metadata": {},
   "outputs": [],
   "source": []
  }
 ],
 "metadata": {
  "kernelspec": {
   "display_name": "Python 3",
   "language": "python",
   "name": "python3"
  },
  "language_info": {
   "codemirror_mode": {
    "name": "ipython",
    "version": 3
   },
   "file_extension": ".py",
   "mimetype": "text/x-python",
   "name": "python",
   "nbconvert_exporter": "python",
   "pygments_lexer": "ipython3",
   "version": "3.6.5"
  }
 },
 "nbformat": 4,
 "nbformat_minor": 2
}
