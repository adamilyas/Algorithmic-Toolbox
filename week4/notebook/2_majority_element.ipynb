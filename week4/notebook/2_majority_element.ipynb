{
 "cells": [
  {
   "cell_type": "markdown",
   "metadata": {},
   "source": [
    "Majority rule is a decision rule that selects the alternative which has a majority, that is, more than half the votes. Given a sequence of elements a1,a2,...,an, you would like to check whether it contains an element that appears more than n/2 times. A naive way to do this is the following. "
   ]
  },
  {
   "cell_type": "code",
   "execution_count": 1,
   "metadata": {},
   "outputs": [],
   "source": [
    "def majority_element(a):\n",
    "    n = len(a)\n",
    "    for i in range(n):\n",
    "        currentElement = a[i]\n",
    "        count = 0\n",
    "        for j in range(n):\n",
    "            if a[j] == currentElement:\n",
    "                count += 1\n",
    "        if count >= n/2:\n",
    "            return currentElement\n",
    "    return 0"
   ]
  },
  {
   "cell_type": "code",
   "execution_count": 2,
   "metadata": {},
   "outputs": [],
   "source": [
    "a = [2, 3, 9, 2, 2]"
   ]
  },
  {
   "cell_type": "code",
   "execution_count": 3,
   "metadata": {},
   "outputs": [
    {
     "data": {
      "text/plain": [
       "2"
      ]
     },
     "execution_count": 3,
     "metadata": {},
     "output_type": "execute_result"
    }
   ],
   "source": [
    "majority_element(a)"
   ]
  },
  {
   "cell_type": "code",
   "execution_count": 4,
   "metadata": {},
   "outputs": [
    {
     "data": {
      "text/plain": [
       "0"
      ]
     },
     "execution_count": 4,
     "metadata": {},
     "output_type": "execute_result"
    }
   ],
   "source": [
    "def gme(a):\n",
    "    n = len(a)\n",
    "    count = {}\n",
    "    for i in a:\n",
    "        if i not in count:\n",
    "            count[i] = 1\n",
    "        else:\n",
    "            count[i] += 1\n",
    "            if count[i] > n/2:\n",
    "                return i\n",
    "    return 0\n",
    "        \n",
    "\n",
    "gme([1,2,3,4])"
   ]
  },
  {
   "cell_type": "markdown",
   "metadata": {},
   "source": [
    "# Using divide and conquer method\n",
    "\n",
    "```\n",
    "int majority(int *A, int i, int j)\n",
    "{\n",
    "    int m1= majority(A, i, j/2-1);\n",
    "    int m2= majority(A, j/2+1, j);\n",
    "    int count = 0;\n",
    "    for(int i=0; i<j; i++)\n",
    "        if(A[i] == m1)\n",
    "            count++;\n",
    "    if(count > j/2)\n",
    "        return m1;\n",
    "    count = 0;\n",
    "    for(int i=0; i<j; i++)\n",
    "        if(A[i] == m2)\n",
    "            count++;\n",
    "    if(count > j/2)\n",
    "        return m2;\n",
    "    }\n",
    "    return -1;\n",
    "}\n",
    "```"
   ]
  },
  {
   "cell_type": "code",
   "execution_count": 70,
   "metadata": {},
   "outputs": [],
   "source": [
    "def majority(A, left, right):\n",
    "    if left == right:\n",
    "        return -1\n",
    "    if left + 1 == right:\n",
    "        return a[left]\n",
    "    \n",
    "    mid = (left+right)//2\n",
    "    m1= majority(A, left, mid)\n",
    "    m2= majority(A, mid, right)\n",
    "    count = 0\n",
    "    for i in range(0, right):\n",
    "        if A[i] == m1:\n",
    "            count +=1\n",
    "    if count > right//2:\n",
    "        return m1\n",
    "    \n",
    "    count = 0\n",
    "    for i in range(0, right):\n",
    "        if A[i] == m2:\n",
    "            count +=1\n",
    "    if count > right//2:\n",
    "        return m2\n",
    "    \n",
    "    return -1"
   ]
  },
  {
   "cell_type": "code",
   "execution_count": 71,
   "metadata": {},
   "outputs": [
    {
     "data": {
      "text/plain": [
       "-1"
      ]
     },
     "execution_count": 71,
     "metadata": {},
     "output_type": "execute_result"
    }
   ],
   "source": [
    "a= [0,0,1,1,1]\n",
    "majority(a, 0, len(a)-1)"
   ]
  },
  {
   "cell_type": "code",
   "execution_count": null,
   "metadata": {},
   "outputs": [],
   "source": []
  }
 ],
 "metadata": {
  "kernelspec": {
   "display_name": "Python 3",
   "language": "python",
   "name": "python3"
  },
  "language_info": {
   "codemirror_mode": {
    "name": "ipython",
    "version": 3
   },
   "file_extension": ".py",
   "mimetype": "text/x-python",
   "name": "python",
   "nbconvert_exporter": "python",
   "pygments_lexer": "ipython3",
   "version": "3.6.5"
  }
 },
 "nbformat": 4,
 "nbformat_minor": 2
}
