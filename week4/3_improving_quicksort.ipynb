{
 "cells": [
  {
   "cell_type": "markdown",
   "metadata": {},
   "source": [
    "# Recall Quicksort"
   ]
  },
  {
   "cell_type": "code",
   "execution_count": null,
   "metadata": {},
   "outputs": [],
   "source": [
    "def partition(a, start, end):\n",
    "    n = len(a)\n",
    "    pivot = a[end]\n",
    "    wall = 0\n",
    "    for j in range(n):\n",
    "        if a[j] <= pivot:\n",
    "            a[wall], a[j] = a[j], a[wall]\n",
    "            wall += 1\n",
    "            \n",
    "    return wall-1\n",
    "# Function to do Quick sort\n",
    "def quickSort(arr,low,high):\n",
    "    if low < high:\n",
    " \n",
    "        # pi is partitioning index, arr[p] is now\n",
    "        # at right place\n",
    "        pi = partition(arr,low,high)\n",
    " \n",
    "        # Separately sort elements before\n",
    "        # partition and after partition\n",
    "        quickSort(arr, low, pi-1)\n",
    "        quickSort(arr, pi+1, high)\n",
    "    return arr\n",
    "\n",
    "arr = [10, 7, 1, 5, 8, 9]\n",
    "quickSort(arr, 0, len(arr)-1)"
   ]
  },
  {
   "cell_type": "markdown",
   "metadata": {},
   "source": [
    "# Randomized Quick Sort"
   ]
  },
  {
   "cell_type": "code",
   "execution_count": null,
   "metadata": {},
   "outputs": [],
   "source": [
    "import random\n",
    "\n",
    "def partition2(a, l, r):\n",
    "    x = a[l]\n",
    "    j = l;\n",
    "    for i in range(l + 1, r + 1):\n",
    "        if a[i] <= x:\n",
    "            j += 1\n",
    "            a[i], a[j] = a[j], a[i]\n",
    "    a[l], a[j] = a[j], a[l]\n",
    "    return j\n",
    "\n",
    "\n",
    "def randomized_quick_sort(a, l, r):\n",
    "    if l < r:\n",
    "        k = random.randint(l, r)\n",
    "        a[l], a[k] = a[k], a[l]\n",
    "        #use partition3\n",
    "        m = partition2(a, l, r)\n",
    "        randomized_quick_sort(a, l, m - 1);\n",
    "        randomized_quick_sort(a, m + 1, r);\n",
    "    return a"
   ]
  },
  {
   "cell_type": "code",
   "execution_count": null,
   "metadata": {},
   "outputs": [],
   "source": [
    "arr = [1,1,0,1,2,1,2,0]\n",
    "\n",
    "randomized_quick_sort(arr, 0, len(arr)-1)"
   ]
  },
  {
   "cell_type": "code",
   "execution_count": 8,
   "metadata": {},
   "outputs": [],
   "source": [
    "import random\n",
    "\n",
    "def partition3(arr, start, end):\n",
    "    pivot = arr[end]\n",
    "    mid = start\n",
    "    while mid<=end:\n",
    "        if arr[mid] < pivot:\n",
    "            arr[start], arr[mid] = arr[mid], arr[start]\n",
    "            start += 1\n",
    "            mid += 1\n",
    "        elif arr[mid] == pivot:\n",
    "            mid +=1\n",
    "        else:\n",
    "            arr[mid], arr[end] = arr[end], arr[mid]\n",
    "            end -=1\n",
    "        pi = start, end\n",
    "    return pi\n",
    "\n",
    "def quick_sort3(arr, start, end):\n",
    "    if start < end:\n",
    "        pivot = random.randint(start, end)\n",
    "        # swap\n",
    "        arr[start], arr[pivot] = arr[pivot], arr[start]\n",
    "        pi = partition3(arr, start, end)\n",
    "        quick_sort3(arr, start, pi[0] - 1)\n",
    "        quick_sort3(arr, pi[1] + 1, end)\n",
    "    else:\n",
    "        return arr"
   ]
  },
  {
   "cell_type": "code",
   "execution_count": 9,
   "metadata": {},
   "outputs": [],
   "source": [
    "arr = [1,1,0,1,2,1,2,0]\n",
    "\n",
    "quick_sort3(arr, 0, len(arr)-1)"
   ]
  },
  {
   "cell_type": "code",
   "execution_count": 10,
   "metadata": {},
   "outputs": [
    {
     "data": {
      "text/plain": [
       "[0, 0, 1, 1, 1, 1, 2, 2]"
      ]
     },
     "execution_count": 10,
     "metadata": {},
     "output_type": "execute_result"
    }
   ],
   "source": [
    "arr"
   ]
  },
  {
   "cell_type": "code",
   "execution_count": null,
   "metadata": {},
   "outputs": [],
   "source": []
  },
  {
   "cell_type": "code",
   "execution_count": null,
   "metadata": {},
   "outputs": [],
   "source": []
  },
  {
   "cell_type": "markdown",
   "metadata": {},
   "source": [
    "# Dutch National Flag Problem"
   ]
  },
  {
   "cell_type": "code",
   "execution_count": null,
   "metadata": {
    "scrolled": true
   },
   "outputs": [],
   "source": [
    "def sort012(arr):\n",
    "    n = len(arr)\n",
    "    low = 0\n",
    "    mid = 0\n",
    "    high = n-1\n",
    "    while mid<=high:\n",
    "        print(\"Low: %s\\nMid: %s\\nHigh: %s\" % (low, mid, high))\n",
    "        print(\"Current %s\" % arr[mid])\n",
    "        print(arr[:mid+1])\n",
    "        if arr[mid] == 0:\n",
    "            arr[low], arr[mid] = arr[mid], arr[low]\n",
    "            low += 1\n",
    "            mid += 1\n",
    "        elif arr[mid] == 1:\n",
    "            mid += 1\n",
    "        else:\n",
    "            arr[mid], arr[high] = arr[high], arr[mid]\n",
    "            high -= 1\n",
    "        print(arr)\n",
    "        print()\n",
    "    return arr\n",
    "\n",
    "arr = [1,1,0,1,2,1,2,0]\n",
    "sort012(arr)"
   ]
  },
  {
   "cell_type": "code",
   "execution_count": null,
   "metadata": {},
   "outputs": [],
   "source": []
  },
  {
   "cell_type": "code",
   "execution_count": null,
   "metadata": {},
   "outputs": [],
   "source": []
  },
  {
   "cell_type": "code",
   "execution_count": null,
   "metadata": {},
   "outputs": [],
   "source": []
  },
  {
   "cell_type": "code",
   "execution_count": null,
   "metadata": {},
   "outputs": [],
   "source": []
  },
  {
   "cell_type": "code",
   "execution_count": 5,
   "metadata": {},
   "outputs": [],
   "source": [
    "import random\n",
    "\n",
    "def partition3(a, left, right):\n",
    "    \"\"\"3-way partitioning.\n",
    "    This method is useful when array contains lot of duplicate values which is\n",
    "    very frequent in real world. Idea is to divide array in three parts rather\n",
    "    than two. First part contains all numbers which are less than the pivot,\n",
    "    second part contains number equal to the pivot and last part contains\n",
    "    numbers which are greater than pivot.\n",
    "    Samples:\n",
    "    >>> a = [2, 1, 2, 3, 2, 2, 2, 3, 1, 2, 1, 2, 3, 3, 2, 2, 1, 3, 1]\n",
    "    >>> partition3(a, 0, 18)\n",
    "    (5, 13)\n",
    "    >>> # Explanation: 5 and 13 is the index range where the pivot elements are\n",
    "    >>> # located after 3-way partitioning is done.\n",
    "    >>> a\n",
    "    [1, 1, 1, 1, 1, 2, 2, 2, 2, 2, 2, 2, 2, 2, 3, 3, 3, 3, 3]\n",
    "    \"\"\"\n",
    "    pivot = a[left]\n",
    "    i = left\n",
    "    lt = left\n",
    "    gt = right\n",
    "    while i <= gt:\n",
    "        if a[i] < pivot:\n",
    "            a[i], a[lt] = a[lt], a[i]\n",
    "            lt += 1\n",
    "            i += 1\n",
    "        elif a[i] > pivot:\n",
    "            a[i], a[gt] = a[gt], a[i]\n",
    "            gt -= 1\n",
    "        else:\n",
    "            i += 1\n",
    "\n",
    "    return lt, gt\n",
    "\n",
    "\n",
    "def randomized_quick_sort(a, left, right):\n",
    "    if left >= right:\n",
    "        return\n",
    "\n",
    "    random_pivot = random.randint(left, right)\n",
    "    a[left], a[random_pivot] = a[random_pivot], a[left]\n",
    "\n",
    "    # use partition3\n",
    "    mid1, mid2 = partition3(a, left, right)\n",
    "    randomized_quick_sort(a, left, mid1 - 1)\n",
    "    randomized_quick_sort(a, mid2 + 1, right)"
   ]
  },
  {
   "cell_type": "code",
   "execution_count": 7,
   "metadata": {},
   "outputs": [
    {
     "data": {
      "text/plain": [
       "[1, 5, 7, 8, 9, 10]"
      ]
     },
     "execution_count": 7,
     "metadata": {},
     "output_type": "execute_result"
    }
   ],
   "source": [
    "arr = [10, 7, 1, 5, 8, 9]\n",
    "randomized_quick_sort(arr, 0, len(arr)-1)\n",
    "arr"
   ]
  },
  {
   "cell_type": "code",
   "execution_count": null,
   "metadata": {},
   "outputs": [],
   "source": []
  }
 ],
 "metadata": {
  "kernelspec": {
   "display_name": "Python 3",
   "language": "python",
   "name": "python3"
  },
  "language_info": {
   "codemirror_mode": {
    "name": "ipython",
    "version": 3
   },
   "file_extension": ".py",
   "mimetype": "text/x-python",
   "name": "python",
   "nbconvert_exporter": "python",
   "pygments_lexer": "ipython3",
   "version": "3.6.5"
  }
 },
 "nbformat": 4,
 "nbformat_minor": 2
}
